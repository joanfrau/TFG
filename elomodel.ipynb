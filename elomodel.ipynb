{
  "nbformat": 4,
  "nbformat_minor": 0,
  "metadata": {
    "colab": {
      "name": "Copia de GuyonPrediction.ipynb",
      "provenance": []
    },
    "kernelspec": {
      "name": "python3",
      "display_name": "Python 3"
    }
  },
  "cells": [
    {
      "cell_type": "markdown",
      "metadata": {
        "id": "DP6GEJpt56_D",
        "colab_type": "text"
      },
      "source": [
        "## Predicción de la clasificacion final de varios países utilizando un modelo basado en el sistema de puntuación ELO"
      ]
    },
    {
      "cell_type": "markdown",
      "metadata": {
        "id": "m_O4hf4F6MFi",
        "colab_type": "text"
      },
      "source": [
        "Imports"
      ]
    },
    {
      "cell_type": "code",
      "metadata": {
        "id": "WtcyyoWu6Hb6",
        "colab_type": "code",
        "colab": {}
      },
      "source": [
        "import pandas as pd\n",
        "from google.colab import files\n",
        "import numpy as np\n",
        "import scipy.optimize as optim\n",
        "import matplotlib.pyplot as plt"
      ],
      "execution_count": 1,
      "outputs": []
    },
    {
      "cell_type": "markdown",
      "metadata": {
        "id": "T6OQz8cd6WJf",
        "colab_type": "text"
      },
      "source": [
        "Funciones"
      ]
    },
    {
      "cell_type": "code",
      "metadata": {
        "id": "pzaHW5q46Urx",
        "colab_type": "code",
        "colab": {}
      },
      "source": [
        "#función nA\n",
        "def my_logisticA(xa, ha, da):\n",
        "  return (3 / (1 + 10**(-(xa+ha)/da)))\n",
        "\n",
        "#función nB\n",
        "def my_logisticB(xb, hb, db):\n",
        "  return (3 / (1 + 10**((xb+hb)/db)))\n",
        "\n",
        "#Devuelve el índice en la lista del nombre del equipo introducido\n",
        "def getindexteam(team, classification):\n",
        "  i = 0\n",
        "  for t in classification:\n",
        "    if t[0] == team:\n",
        "      return i\n",
        "    else:\n",
        "      i = i+1"
      ],
      "execution_count": 2,
      "outputs": []
    },
    {
      "cell_type": "code",
      "metadata": {
        "id": "HwWCJK_cx7D3",
        "colab_type": "code",
        "colab": {}
      },
      "source": [
        "#Función para procesamiento de partidos y predicción\n",
        "def elomodel(file,partidosjugados):\n",
        "\n",
        "  #Lectura del archivo de partidos\n",
        "  #!rm file\n",
        "  #archive = files.upload()\n",
        "  data = pd.read_csv(file, sep=\";\",  encoding='latin1')\n",
        "\n",
        "  classification = []\n",
        "  nA = []\n",
        "  nB = []\n",
        "\n",
        "  #Recoge el nombre de los equipos\n",
        "  for i in range(10):\n",
        "    classification.append([data.loc[i][0], 0, 0])\n",
        "    classification.append([data.loc[i][1], 0, 0])\n",
        "\n",
        "  #Recoge los puntos obtenidos según el marcador del partido y los valores de diferencia pA-pB y puntos obtenidos para la función sigmoide que se calculará\n",
        "  for i in range(partidosjugados):\n",
        "    tupleA = []\n",
        "    tupleB = []\n",
        "    A = data.loc[i][0]\n",
        "    B = data.loc[i][1]\n",
        "    pA = classification[getindexteam(A,classification)][1]\n",
        "    pB = classification[getindexteam(B,classification)][1]\n",
        "    tupleA.append(pA-pB)\n",
        "    tupleB.append(pA-pB)\n",
        "    if data.loc[i][2] > data.loc[i][3]:\n",
        "      indexteam = getindexteam(data.loc[i][0],classification)\n",
        "      classification[indexteam][1] += 3\n",
        "      tupleA.append(3)\n",
        "      tupleB.append(0)\n",
        "    elif data.loc[i][2] == data.loc[i][3]:\n",
        "      indexteam = getindexteam(data.loc[i][0],classification)\n",
        "      classification[indexteam][1] += 1\n",
        "      indexteam = getindexteam(data.loc[i][1],classification)\n",
        "      classification[indexteam][1] += 1\n",
        "      tupleA.append(1)\n",
        "      tupleB.append(1)\n",
        "    else: \n",
        "      indexteam = getindexteam(data.loc[i][1],classification)\n",
        "      classification[indexteam][1] += 3\n",
        "      tupleA.append(0)\n",
        "      tupleB.append(3)\n",
        "    nA.append(tupleA)\n",
        "    nB.append(tupleB)\n",
        "    \n",
        "\n",
        "  dfa = pd.DataFrame(nA, columns =['x', 'y'])\n",
        "  dfb = pd.DataFrame(nB, columns =['x', 'y'])\n",
        "\n",
        "  #convierte las columnas del dataframe en arrays\n",
        "  xa = np.array(dfa['x']) \n",
        "  ya = np.array(dfa['y'])\n",
        "  xb = np.array(dfb['x']) \n",
        "  yb = np.array(dfb['y'])\n",
        "\n",
        "\n",
        "  #Optimización de los parámetros para obtener los adecuados\n",
        "  (ha,da),cova = optim.curve_fit(my_logisticA, xa, ya)\n",
        "  print(\"Valores de h y d respectivamente para la funcion nA\")\n",
        "  print(ha,da)\n",
        "  print(\"\\n\")\n",
        "\n",
        "  (hb,db),covb = optim.curve_fit(my_logisticB, xb, yb)\n",
        "  print(\"Valores de h y d respectivamente para la funcion nB\")\n",
        "  print(hb,db)\n",
        "  print(\"\\n\")\n",
        "\n",
        "  #Aplicación de las funciones a los partidos restantes que se deben predecir\n",
        "  for i in range(partidosjugados,380):\n",
        "    A = data.loc[i][0]\n",
        "    B = data.loc[i][1]\n",
        "    pA = classification[getindexteam(A,classification)][1]\n",
        "    pB = classification[getindexteam(B,classification)][1]\n",
        "    valorA = my_logisticA(pA-pB,ha,da)\n",
        "    valorB = my_logisticB(pA-pB,hb,db)\n",
        "    classification[getindexteam(A,classification)][2] += valorA \n",
        "    classification[getindexteam(B,classification)][2] += valorB \n",
        "\n",
        "  #Suma los puntos obtenidos de partidos jugados a los puntos predecidos\n",
        "  for x in classification:\n",
        "    x[2] = x[2] + x[1]\n",
        "\n",
        "  #Ordena e imprime la clasificación\n",
        "  classification = sorted(classification,key=lambda x: x[2], reverse = True)\n",
        "  print(\"Clasificación obtenida\")\n",
        "  print(classification)\n",
        "  print(\"\\n\")\n",
        "\n",
        "  #pinta la función\n",
        "  fig, axs = plt.subplots(1,2, figsize=(15,5))\n",
        "\n",
        "  dfordered = dfa.sort_values('x')\n",
        "  xo = np.array(dfordered['x']) \n",
        "  yo = np.array(dfordered['y'])\n",
        "  axs[0].set_title(\"Función nA\")\n",
        "  axs[0].set_ylabel('Número de puntos ganados por el equipo A')\n",
        "  axs[0].set_xlabel('Diferencia de puntos entre equipo A y B')\n",
        "  axs[0].scatter(xa, ya, c=\"red\")\n",
        "  axs[0].plot(xo,(3 / (1 + 10**(-(xo+ha)/da))))\n",
        "  print(\"\\n\")\n",
        "\n",
        "  dfordered = dfb.sort_values('x')\n",
        "  xo = np.array(dfordered['x']) \n",
        "  yo = np.array(dfordered['y'])\n",
        "  axs[1].set_title(\"Función nB\")\n",
        "  axs[1].set_ylabel('Número de puntos ganados por el equipo B')\n",
        "  axs[1].set_xlabel('Diferencia de puntos entre equipo A y B')\n",
        "  axs[1].scatter(xb, yb, c=\"red\")\n",
        "  axs[1].plot(xo,(3 / (1 + 10**((xo+hb)/db))))\n",
        "  print(\"\\n\")\n",
        "\n",
        "  return classification\n",
        "\n",
        "#Función que devuelve el error respecto a la clasificación obtenida\n",
        "def errorcalculation(guyonclassification, classification):\n",
        "\n",
        "  #Cálculo del error entre los valores obtenidos y los resultados del modelo de Guyon\n",
        "  #Imprime el error de cada equipo y la media del error de todos los equipos\n",
        "  pointdifference = []\n",
        "  for i in range(20):\n",
        "    pointdifference.append(-(guyonclassification[i][2] - classification[i][2]))\n",
        "\n",
        "  mediapuntosdesviados = 0\n",
        "  for t in pointdifference:\n",
        "    mediapuntosdesviados += abs(t)\n",
        "\n",
        "  mediapuntosdesviados=mediapuntosdesviados/20\n",
        "    \n",
        "  print(\"Error respecto al resultado del modelo de Guyon para cada equipo\")\n",
        "  print(pointdifference)\n",
        "  print(\"\\n\")\n",
        "  print(\"Media del error total \"+  str(mediapuntosdesviados))\n",
        "  print(\"\\n\")"
      ],
      "execution_count": 3,
      "outputs": []
    },
    {
      "cell_type": "markdown",
      "metadata": {
        "id": "pc33xJ7u6nBJ",
        "colab_type": "text"
      },
      "source": [
        "Predicción Ligue 1 19-20"
      ]
    },
    {
      "cell_type": "code",
      "metadata": {
        "id": "iHPzgf65ylXm",
        "colab_type": "code",
        "colab": {}
      },
      "source": [
        "classification = elomodel(\"Ligue1Data1920.csv\", 279)\n",
        "guyonclassificationfrance = [['Paris S-G', 68, 94.58], ['Marseille', 56, 75.56], ['Rennes', 50, 68.49], ['Lille', 49, 67.64], ['Reims', 41, 54.95], ['Montpellier', 40, 54.65], ['Nice', 41, 54.53], ['Lyon', 40, 54.47], ['Monaco', 40, 54.19], ['Angers', 39, 52.87], ['Strasbourg', 38, 52.18], ['Nantes', 37, 51.81], ['Bordeaux', 37, 51.39], ['Metz', 34, 45.26], ['Brest', 34, 44.48], ['Saint-Étienne', 30, 40.73], ['Dijon', 30, 40.29], ['Nimes', 27, 36.65], ['Amiens', 23, 31.17], ['Toulouse', 13, 18.83]]\n",
        "errorcalculation(guyonclassificationfrance, classification)"
      ],
      "execution_count": null,
      "outputs": []
    },
    {
      "cell_type": "markdown",
      "metadata": {
        "id": "5ag4AcQN7vMi",
        "colab_type": "text"
      },
      "source": [
        "Predicción Premier League 19-20"
      ]
    },
    {
      "cell_type": "code",
      "metadata": {
        "id": "5-I-CHkVylhd",
        "colab_type": "code",
        "colab": {}
      },
      "source": [
        "classification = elomodel(\"PremierData1920.csv\", 288)\n",
        "guyonclassificationengland = [['Liverpool', 82, 105.9], ['Manchester City', 57, 77.8], ['Leicester City', 53, 70.8], ['Chelsea', 48, 62.9], ['Manchester Utd', 45, 60.4], ['Wolves', 43, 57.4], ['Sheffield Utd', 43, 57.3], ['Tottenham', 41, 54.2], ['Arsenal', 40, 53.0], ['Burnley', 39, 51.1], ['Crystal Palace', 39, 49.6], ['Everton', 37, 48.4], ['Newcastle Utd', 35, 46.3], ['Southampton', 34, 45.1], ['Brighton', 29, 36.5], ['West Ham', 27, 36.4], ['Watford', 27, 35.4], ['Bournemouth', 27, 34.3], ['Aston Villa', 25, 32.6], ['Norwich City', 21, 28.3]]\n",
        "errorcalculation(guyonclassificationengland, classification)"
      ],
      "execution_count": null,
      "outputs": []
    },
    {
      "cell_type": "markdown",
      "metadata": {
        "id": "Qwf0PBbf8XDr",
        "colab_type": "text"
      },
      "source": [
        "Predicción La Liga 19-20"
      ]
    },
    {
      "cell_type": "code",
      "metadata": {
        "id": "zIjsbm4BylpR",
        "colab_type": "code",
        "colab": {}
      },
      "source": [
        "classification = elomodel(\"LaLigaData1920.csv\", 270)"
      ],
      "execution_count": null,
      "outputs": []
    }
  ]
}